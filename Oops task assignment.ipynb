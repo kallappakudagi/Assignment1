{
 "cells": [
  {
   "cell_type": "markdown",
   "id": "8c365c07-d7bc-448d-91b5-82fd55db499f",
   "metadata": {},
   "source": [
    "# Q1, Create a vehicle class with an init method having instance variables as name_of_vehicle, max_speed and average_of_vehicle.\n"
   ]
  },
  {
   "cell_type": "code",
   "execution_count": 1,
   "id": "23e5c0cc-6e20-4dc6-a5de-f199440999ab",
   "metadata": {},
   "outputs": [],
   "source": [
    "class Vehicle:\n",
    "\n",
    "  def __init__(self, name_of_vehicle, max_speed, average_speed):\n",
    "    self.name_of_vehicle = name_of_vehicle\n",
    "    self.max_speed = max_speed\n",
    "    self.average_speed = average_speed"
   ]
  },
  {
   "cell_type": "code",
   "execution_count": 2,
   "id": "b1b76f11-3afa-4452-85e0-7a661b587d7e",
   "metadata": {},
   "outputs": [
    {
     "name": "stdout",
     "output_type": "stream",
     "text": [
      "Car\n"
     ]
    }
   ],
   "source": [
    "vehicle1 = Vehicle(\"Car\", 200, 100)\n",
    "print(vehicle1.name_of_vehicle)"
   ]
  },
  {
   "cell_type": "markdown",
   "id": "993179e2-861e-4f60-a8fd-dc1b07639e19",
   "metadata": {},
   "source": [
    "# Q2. Create a child class car from the vehicle class created in Que 1, which will inherit the vehicle class.Create a method named seating_capacity which takes capacity as an argument and returns the name of the vehicle and its seating capacity.\n",
    "\n"
   ]
  },
  {
   "cell_type": "code",
   "execution_count": 3,
   "id": "bfc1265a-5ef9-4987-a454-b084c7171a5d",
   "metadata": {},
   "outputs": [
    {
     "name": "stdout",
     "output_type": "stream",
     "text": [
      "The name of the vehicle is BMW and its seating capacity is 5\n"
     ]
    }
   ],
   "source": [
    "class Vehicle:\n",
    "\n",
    "  def __init__(self, name_of_vehicle, max_speed, average_speed):\n",
    "    self.name_of_vehicle = name_of_vehicle\n",
    "    self.max_speed = max_speed\n",
    "    self.average_speed = average_speed\n",
    "\n",
    "  def print_details(self):\n",
    "    print(f\"Name of vehicle: {self.name_of_vehicle}\")\n",
    "    print(f\"Maximum speed: {self.max_speed}\")\n",
    "    print(f\"Average speed: {self.average_speed}\")\n",
    "\n",
    "\n",
    "class Car(Vehicle):\n",
    "\n",
    "  def seating_capacity(self, capacity):\n",
    "    return f\"The name of the vehicle is {self.name_of_vehicle} and its seating capacity is {capacity}\"\n",
    "\n",
    "\n",
    "\n",
    "car1 = Car(\"BMW\",200, 100)\n",
    "seating_capacity = car1.seating_capacity(5)\n",
    "\n",
    "# Print the seating capacity of the car\n",
    "print(seating_capacity)"
   ]
  },
  {
   "cell_type": "markdown",
   "id": "944a37e9-a68a-4ecd-ba58-52fd3bfae019",
   "metadata": {},
   "source": [
    "# Q3. What is multiple inheritance? Write a python code to demonstrate multiple inheritance."
   ]
  },
  {
   "cell_type": "code",
   "execution_count": null,
   "id": "d0a63d30-2f10-41dd-8d6f-06dbfb12468e",
   "metadata": {},
   "outputs": [],
   "source": [
    " ''' Multiple inheritance allows a class to inherit from multiple parent classes. The child class inherits attributes and \n",
    "    methods from all the parent classes. This type of inheritance enables you to combine functionalities from different classes \n",
    "    into a single class. However, it can lead to complexities if there are naming conflicts between the parent classes.'''"
   ]
  },
  {
   "cell_type": "code",
   "execution_count": 4,
   "id": "7bc5bda4-e53a-4893-8191-687cca9b747d",
   "metadata": {},
   "outputs": [
    {
     "name": "stdout",
     "output_type": "stream",
     "text": [
      "Eating...\n",
      "Flying...\n"
     ]
    }
   ],
   "source": [
    "class Animal:\n",
    "    def eat(self):\n",
    "        print(\"Eating...\")\n",
    "\n",
    "class Flying:\n",
    "    def fly(self):\n",
    "        print(\"Flying...\")\n",
    "\n",
    "class Bird(Animal, Flying):\n",
    "    pass\n",
    "\n",
    "my_bird = Bird()\n",
    "my_bird.eat()  # Inherits the 'eat' method from the Animal class\n",
    "my_bird.fly()  # Inherits the 'fly' method from the Flying class"
   ]
  },
  {
   "cell_type": "markdown",
   "id": "bd4e46e1-75b9-446d-b0c6-d23809057be5",
   "metadata": {},
   "source": [
    "# Q4. What are getter and setter in python? Create a class and create a getter and a setter method in this class.\n"
   ]
  },
  {
   "cell_type": "code",
   "execution_count": null,
   "id": "a6b625cd-f77f-4859-b8f9-94973d917045",
   "metadata": {},
   "outputs": [],
   "source": [
    "##  A: Getter: A getter is a method that returns the value of an attribute.\n",
    "##      Setter: A setter is a method that sets the value of an attribute."
   ]
  },
  {
   "cell_type": "code",
   "execution_count": 5,
   "id": "913ad177-30bb-47ad-9e9a-b4db67ceb6c5",
   "metadata": {},
   "outputs": [
    {
     "name": "stdout",
     "output_type": "stream",
     "text": [
      "Hello\n",
      "world\n"
     ]
    }
   ],
   "source": [
    "class Person:\n",
    "    def __init__(self, name):\n",
    "        self._name = name  # Note the underscore convention for indicating a private attribute\n",
    "\n",
    "    def get_name(self):\n",
    "        return self._name\n",
    "\n",
    "    def set_name(self, new_name):\n",
    "        self._name = new_name\n",
    "\n",
    "person = Person(\"Hello\")\n",
    "print(person.get_name())  # Outputs: Alice\n",
    "\n",
    "person.set_name(\"world\")\n",
    "print(person.get_name())  # Outputs: Bob"
   ]
  },
  {
   "cell_type": "markdown",
   "id": "521b7f4f-2ccc-467d-ae8f-0ec0a2f9aa5e",
   "metadata": {},
   "source": [
    "# Q5.What is method overriding in python? Write a python code to demonstrate method overriding."
   ]
  },
  {
   "cell_type": "code",
   "execution_count": null,
   "id": "79e9fdfd-6351-42cb-a8fc-1cd2bfab9dd7",
   "metadata": {},
   "outputs": [],
   "source": [
    "'''Method overriding in Python refers to the ability of a subclass to provide its own implementation of\n",
    "   a method that is already defined in its superclass. The overriding method in the subclass has the same name, parameters, \n",
    "   and return type as the method in the superclass but provides a different implementation.\"\n"
   ]
  },
  {
   "cell_type": "code",
   "execution_count": 6,
   "id": "93eafb5f-f266-4848-864c-5d082df67ad5",
   "metadata": {},
   "outputs": [],
   "source": [
    "class parent :\n",
    "    def method(self):\n",
    "        print('this is parent method')\n",
    "class child(parent):\n",
    "     def method(self):\n",
    "        print('this is child method')"
   ]
  },
  {
   "cell_type": "code",
   "execution_count": 7,
   "id": "30efed9b-a548-4867-8fba-0adf3973f9de",
   "metadata": {},
   "outputs": [
    {
     "name": "stdout",
     "output_type": "stream",
     "text": [
      "this is child method\n"
     ]
    }
   ],
   "source": [
    "obj = child()\n",
    "obj.method()"
   ]
  }
 ],
 "metadata": {
  "kernelspec": {
   "display_name": "Python 3 (ipykernel)",
   "language": "python",
   "name": "python3"
  },
  "language_info": {
   "codemirror_mode": {
    "name": "ipython",
    "version": 3
   },
   "file_extension": ".py",
   "mimetype": "text/x-python",
   "name": "python",
   "nbconvert_exporter": "python",
   "pygments_lexer": "ipython3",
   "version": "3.10.8"
  }
 },
 "nbformat": 4,
 "nbformat_minor": 5
}
