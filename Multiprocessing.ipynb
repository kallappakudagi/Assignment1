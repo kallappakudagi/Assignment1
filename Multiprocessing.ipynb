{
 "cells": [
  {
   "cell_type": "markdown",
   "id": "3a2722e0-dcc4-460e-a885-8e4170ec4862",
   "metadata": {},
   "source": [
    "# Q1. What is multiprocessing in python? Why is it useful? "
   ]
  },
  {
   "cell_type": "code",
   "execution_count": null,
   "id": "3025ae7c-490d-464e-ad3d-d823c8a79f67",
   "metadata": {},
   "outputs": [],
   "source": [
    "\n",
    "# Multiprocessing in Python is a built-in package that allows the system to run multiple processes simultaneously. \n",
    "# It will enable the breaking of applications into smaller threads that can run independently."
   ]
  },
  {
   "cell_type": "code",
   "execution_count": null,
   "id": "3ab72390-85c1-46e0-8b55-0d6a5c8bc201",
   "metadata": {},
   "outputs": [],
   "source": [
    "# The multiprocessing package offers both local and remote concurrency,\n",
    "# ffectively side-stepping the Global Interpreter Lock by using subprocesses instead of threads.\n",
    "# Due to this, the multiprocessing module allows the programmer to fully leverage multiple processors on a given machine.\n",
    "# It runs on both Unix and Windows."
   ]
  },
  {
   "cell_type": "markdown",
   "id": "eeda7b43-da06-4548-8f5c-713a50859d9e",
   "metadata": {},
   "source": [
    "# Q2. What are the differences between multiprocessing and multithreading?"
   ]
  },
  {
   "cell_type": "code",
   "execution_count": null,
   "id": "2da1696a-988b-47c1-abb6-a77ca281986e",
   "metadata": {},
   "outputs": [],
   "source": [
    "# Multithreading: is a technique where multiple threads are spawned by a process to do different tasks, at about the same time,\n",
    "# just one after the other. This gives you the illusion that the threads are running in parallel, but they are actually run in a concurrent manner. \n",
    "# In Python, the Global Interpreter Lock (GIL) prevents the threads from running simultaneously."
   ]
  },
  {
   "cell_type": "code",
   "execution_count": null,
   "id": "8ab6462f-4bb8-4075-9ace-a4c6c81a8741",
   "metadata": {},
   "outputs": [],
   "source": [
    "# Multiprocessing: is a technique where parallelism in its truest form is achieved.\n",
    "# Multiple processes are run across multiple CPU cores, which do not share the resources among them.\n",
    "# Each process can have many threads running in its own memory space. \n",
    "# In Python, each process has its own instance of Python interpreter doing the job of executing the instructions"
   ]
  },
  {
   "cell_type": "markdown",
   "id": "eb2681a4-c989-42a0-815d-24aa31dfce90",
   "metadata": {},
   "source": [
    "# Q3. Write a python code to create a process using the multiprocessing module."
   ]
  },
  {
   "cell_type": "code",
   "execution_count": 2,
   "id": "263baedc-13fe-4ed4-9958-ea3911df21c2",
   "metadata": {},
   "outputs": [
    {
     "name": "stdout",
     "output_type": "stream",
     "text": [
      "My name is  Kallu\n"
     ]
    }
   ],
   "source": [
    "from multiprocessing import Process\n",
    "def func1(name):\n",
    "    print(\"My name is \",name)\n",
    "    \n",
    "if __name__==\"__main__\":\n",
    "    a=Process(target=func1,args=(\"Kallu\",))\n",
    "    a.start()"
   ]
  },
  {
   "cell_type": "markdown",
   "id": "64834ff8-d8a3-474c-8f27-9aa67d2dac78",
   "metadata": {},
   "source": [
    "# Q4. What is a multiprocessing pool in python? Why is it used?"
   ]
  },
  {
   "cell_type": "code",
   "execution_count": null,
   "id": "23055a99-be82-4e6e-bcc2-cade34ecebce",
   "metadata": {},
   "outputs": [],
   "source": [
    "# Python multiprocessing Pool can be used for parallel execution of a function across multiple input values, \n",
    "# distributing the input data across processes (data parallelism)."
   ]
  },
  {
   "cell_type": "code",
   "execution_count": null,
   "id": "95b6a790-4564-4359-8e0e-a75262b42998",
   "metadata": {},
   "outputs": [],
   "source": [
    "# we are using multiprocessing. Pool class when you need to execute tasks that may or may not take arguments\n",
    "# and may or may not return a result once the tasks are complete."
   ]
  },
  {
   "cell_type": "markdown",
   "id": "37771a70-9dfc-4b36-abc3-a96521775480",
   "metadata": {},
   "source": [
    "# Q5. How can we create a pool of worker processes in python using the multiprocessing module?"
   ]
  },
  {
   "cell_type": "code",
   "execution_count": 3,
   "id": "a0372f64-0d03-4d95-aa1f-46c28182f2d1",
   "metadata": {},
   "outputs": [
    {
     "name": "stdout",
     "output_type": "stream",
     "text": [
      "<multiprocessing.pool.Pool state=RUN pool_size=64>\n",
      "64\n",
      "64\n"
     ]
    }
   ],
   "source": [
    "from multiprocessing.pool import Pool\n",
    "from multiprocessing import active_children\n",
    " \n",
    "\n",
    "if __name__ == '__main__':\n",
    "    pool = Pool()\n",
    "    print(pool)\n",
    "    print(pool._processes)\n",
    "    children = active_children()\n",
    "    print(len(children))"
   ]
  },
  {
   "cell_type": "markdown",
   "id": "1c9648e1-4afc-4aa3-b092-c9d319af31e6",
   "metadata": {},
   "source": [
    "# Q6. Write a python program to create 4 processes, each process should print a different number using the multiprocessing module in python\n",
    "."
   ]
  },
  {
   "cell_type": "code",
   "execution_count": 4,
   "id": "0bb0b682-65bb-4373-9007-072262d1c8f2",
   "metadata": {},
   "outputs": [
    {
     "name": "stdout",
     "output_type": "stream",
     "text": [
      "\n",
      " the number is 6\n",
      " the number is \n",
      " \n",
      "4\n",
      " the number is 3 \n",
      "\n",
      " the number is 5\n"
     ]
    }
   ],
   "source": [
    "import multiprocessing as mp\n",
    "\n",
    "def func1(p):\n",
    "    print(\"\\n the number is\",p)\n",
    "    \n",
    "def func2(q):\n",
    "    print(\"\\n the number is \",q)\n",
    "    \n",
    "def func3(z):\n",
    "    print(\"\\n the number is \",z)\n",
    "    \n",
    "def func4(s):\n",
    "    print(\"\\n the number is\",s)\n",
    "    \n",
    "if __name__==\"__main__\":\n",
    "    a=mp.Process(target=func1,args=(6,))\n",
    "    b=mp.Process(target=func2,args=(4,))\n",
    "    c=mp.Process(target=func3,args=(3,))\n",
    "    d=mp.Process(target=func4,args=(5,))\n",
    "    \n",
    "    \n",
    "    a.start()\n",
    "    b.start()\n",
    "    c.start()\n",
    "    d.start()\n",
    "    \n",
    "    a.join()\n",
    "    b.join()\n",
    "    c.join()\n",
    "    d.join()"
   ]
  },
  {
   "cell_type": "code",
   "execution_count": null,
   "id": "435363b9-d45c-4cf0-bc92-660a9230d3b7",
   "metadata": {},
   "outputs": [],
   "source": []
  }
 ],
 "metadata": {
  "kernelspec": {
   "display_name": "Python 3 (ipykernel)",
   "language": "python",
   "name": "python3"
  },
  "language_info": {
   "codemirror_mode": {
    "name": "ipython",
    "version": 3
   },
   "file_extension": ".py",
   "mimetype": "text/x-python",
   "name": "python",
   "nbconvert_exporter": "python",
   "pygments_lexer": "ipython3",
   "version": "3.10.8"
  }
 },
 "nbformat": 4,
 "nbformat_minor": 5
}
