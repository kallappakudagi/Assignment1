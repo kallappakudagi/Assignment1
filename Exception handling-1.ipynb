{
 "cells": [
  {
   "cell_type": "markdown",
   "id": "c80ccb3f-c9cd-4133-a3ee-d4ef7c3c102a",
   "metadata": {},
   "source": [
    "# 1] what is Exeption in python? write the differences between Exception and syntax error"
   ]
  },
  {
   "cell_type": "code",
   "execution_count": null,
   "id": "18770691-1834-483e-99f1-89a3e426a8a1",
   "metadata": {},
   "outputs": [],
   "source": [
    "#  An exception is an event, which occurs during the execution of a program that disrupts the normal flow of the program's instructions.\n",
    "#  in general, when a Python script encounters a situation that it cannot cope with, it raises an exception.\n",
    "#  An exception is a Python object that represents an error.\n"
   ]
  },
  {
   "cell_type": "code",
   "execution_count": null,
   "id": "72e473df-08cb-443a-b038-1ccb2fda71ad",
   "metadata": {},
   "outputs": [],
   "source": [
    "#  Errors mostly occur at runtime that's they belong to an unchecked type.\n",
    "#  Exceptions are the problems which can occur at runtime and compile time."
   ]
  },
  {
   "cell_type": "markdown",
   "id": "9b5a8009-6b51-4d51-a1c6-3077ce494576",
   "metadata": {},
   "source": [
    "# 2] what happens when an exeption is not handled? explain with an exmple."
   ]
  },
  {
   "cell_type": "code",
   "execution_count": null,
   "id": "e058bdaf-8565-452e-b7d3-2c0c095def2a",
   "metadata": {},
   "outputs": [],
   "source": [
    "#  When an exception occurred, if you don't handle it, the program terminates abruptly \n",
    "#  and the code past the line that caused the exception will not get executed."
   ]
  },
  {
   "cell_type": "code",
   "execution_count": 1,
   "id": "6cae21f0-b7fa-4fb3-9b1f-510430b43472",
   "metadata": {},
   "outputs": [
    {
     "ename": "ZeroDivisionError",
     "evalue": "division by zero",
     "output_type": "error",
     "traceback": [
      "\u001b[0;31m---------------------------------------------------------------------------\u001b[0m",
      "\u001b[0;31mZeroDivisionError\u001b[0m                         Traceback (most recent call last)",
      "Cell \u001b[0;32mIn[1], line 2\u001b[0m\n\u001b[1;32m      1\u001b[0m a\u001b[38;5;241m=\u001b[39m\u001b[38;5;241m10\u001b[39m\n\u001b[0;32m----> 2\u001b[0m \u001b[38;5;241;43m10\u001b[39;49m\u001b[38;5;241;43m/\u001b[39;49m\u001b[38;5;241;43m0\u001b[39;49m\n\u001b[1;32m      3\u001b[0m \u001b[38;5;28mprint\u001b[39m(\u001b[38;5;124m\"\u001b[39m\u001b[38;5;124mthis is work\u001b[39m\u001b[38;5;124m\"\u001b[39m)\n",
      "\u001b[0;31mZeroDivisionError\u001b[0m: division by zero"
     ]
    }
   ],
   "source": [
    "a=10\n",
    "10/0\n",
    "print(\"this is work\")"
   ]
  },
  {
   "cell_type": "markdown",
   "id": "088b6272-881b-4786-8aae-f0bea2bba467",
   "metadata": {},
   "source": [
    "# 3] Which python statments are used to catch and handle exeption ? explain with an exmple"
   ]
  },
  {
   "cell_type": "code",
   "execution_count": null,
   "id": "8a646832-a61b-4ab3-b685-592d92bd3672",
   "metadata": {},
   "outputs": [],
   "source": [
    "# Try and except statements are used to catch and handle exceptions in Python"
   ]
  },
  {
   "cell_type": "code",
   "execution_count": 2,
   "id": "9c34aae9-e819-4b6c-8155-cdb48171e914",
   "metadata": {},
   "outputs": [
    {
     "name": "stdout",
     "output_type": "stream",
     "text": [
      "this block will execute once try will execute itself without an exception\n",
      "i will execute\n"
     ]
    }
   ],
   "source": [
    "try:\n",
    "    f=open(\"test.txt\",'w')\n",
    "    f.write(\"this is my file\")\n",
    "\n",
    "except Exception as e:\n",
    "    print(\"there is some issue with my code\",e)\n",
    "else:\n",
    "    f.close()\n",
    "    print(\"this block will execute once try will execute itself without an exception\")\n",
    "    \n",
    "finally:\n",
    "    print(\"i will execute\")"
   ]
  },
  {
   "cell_type": "markdown",
   "id": "947fb32e-3f60-429d-bd1c-837bd04f372d",
   "metadata": {},
   "source": [
    "# 4] Explain with an exmple\n",
    "  "
   ]
  },
  {
   "cell_type": "markdown",
   "id": "ef5c2a64-bffb-47a9-b32a-5fe80523ae58",
   "metadata": {},
   "source": [
    "   # a] try and else\n",
    "   # b] finally\n",
    "   # c]raise\n"
   ]
  },
  {
   "cell_type": "code",
   "execution_count": null,
   "id": "11cc2316-9f6c-4181-b371-7a6187fd29fc",
   "metadata": {},
   "outputs": [],
   "source": [
    "# The intended use is to have a context for more code to run if there were no exceptions where it was expected to be handled.\n",
    "# This context avoids accidentally handling errors you did not expect."
   ]
  },
  {
   "cell_type": "code",
   "execution_count": 3,
   "id": "d2236e7b-6a91-446f-b751-e9f0fe0ed558",
   "metadata": {},
   "outputs": [
    {
     "name": "stdout",
     "output_type": "stream",
     "text": [
      "this block will execute once try will execute itself without an exception\n"
     ]
    }
   ],
   "source": [
    "try:\n",
    "    f=open(\"test.txt\",'w')\n",
    "    f.write(\"this is my file\")\n",
    "\n",
    "except Exception as e:\n",
    "    print(\"there is some issue with my code\",e)\n",
    "else:\n",
    "    f.close()\n",
    "    print(\"this block will execute once try will execute itself without an exception\")"
   ]
  },
  {
   "cell_type": "code",
   "execution_count": null,
   "id": "5285b0ad-9fac-4304-8813-c553c827753c",
   "metadata": {},
   "outputs": [],
   "source": [
    "## b."
   ]
  },
  {
   "cell_type": "code",
   "execution_count": null,
   "id": "19fe887f-7579-4de9-b739-79cf413f9519",
   "metadata": {},
   "outputs": [],
   "source": [
    "# The finally block in java is used to put important codes such as clean up code.\n",
    "# e.g. closing the file or closing the connection. \n",
    "# The finally block executes whether exception rise or not and whether exception handled or not.\n",
    "# A finally contains all the crucial statements regardless of the exception occurs or not."
   ]
  },
  {
   "cell_type": "code",
   "execution_count": null,
   "id": "3234762e-37a1-43c0-81d8-8cc23cf082b7",
   "metadata": {},
   "outputs": [],
   "source": [
    "## c. The raise keyword is used to raise an exception. \n",
    "##    You can define what kind of error to raise, and the text to print to the user."
   ]
  },
  {
   "cell_type": "markdown",
   "id": "82e86fdf-7111-4bd4-bfaf-e3874dbcc74a",
   "metadata": {},
   "source": [
    "# 5] What are custom exception in python? why do we need custom exception? explain with an exmple"
   ]
  },
  {
   "cell_type": "code",
   "execution_count": null,
   "id": "d5c0ad9a-1bbb-4694-b06d-4059fab2e941",
   "metadata": {},
   "outputs": [],
   "source": [
    "#  Like standard exception classes, custom exceptions are also classes. \n",
    "#  Hence, you can add functionality to the custom exception classes.\n",
    "\n",
    "# a.Adding attributes and properties.\n",
    "# b.Adding methods e.g., log the exception, format the output, etc.\n",
    "# c.Overriding the __str__ and __repr__ methods.\n",
    "# d.And doing anything else that you can do with regular classes."
   ]
  },
  {
   "cell_type": "code",
   "execution_count": null,
   "id": "73c3c0fc-acc0-462c-b139-0cf79cf87ffd",
   "metadata": {},
   "outputs": [],
   "source": [
    "# Built-in exceptions offer information about Python-related problems,\n",
    "# and custom exceptions will add information about project-related problems."
   ]
  },
  {
   "cell_type": "code",
   "execution_count": 4,
   "id": "4b46ea84-4fa0-4f44-8706-4a9ad76354e6",
   "metadata": {},
   "outputs": [
    {
     "name": "stdout",
     "output_type": "stream",
     "text": [
      "Second element = 2\n",
      "An error occurred\n"
     ]
    }
   ],
   "source": [
    "a = [1, 2, 3]\n",
    "try: \n",
    "    print (\"Second element = %d\" %(a[1]))\n",
    "  \n",
    "    # Throws error since there are only 3 elements in array\n",
    "    print (\"Fourth element = %d\" %(a[3]))\n",
    "  \n",
    "except:\n",
    "    print (\"An error occurred\")"
   ]
  },
  {
   "cell_type": "markdown",
   "id": "99d1c7c8-4375-494b-98c8-9dd3cf2a25c8",
   "metadata": {},
   "source": [
    "# 6] Create a custom exception class.use this class to handle the exception."
   ]
  },
  {
   "cell_type": "code",
   "execution_count": 6,
   "id": "fd27c221-819a-42cb-81f4-0bfc35c1f83e",
   "metadata": {},
   "outputs": [
    {
     "name": "stdin",
     "output_type": "stream",
     "text": [
      "Enter a number:  13\n"
     ]
    },
    {
     "name": "stdout",
     "output_type": "stream",
     "text": [
      "Exception occurred: Invalid Age\n"
     ]
    }
   ],
   "source": [
    "class InvalidAgeException(Exception):\n",
    "    \"Raised when the input value is less than 18\"\n",
    "    pass\n",
    "\n",
    "\n",
    "number = 18\n",
    "\n",
    "try:\n",
    "    input_num = int(input(\"Enter a number: \"))\n",
    "    if input_num < number:\n",
    "        raise InvalidAgeException\n",
    "    else:\n",
    "        print(\"Eligible to Vote\")\n",
    "        \n",
    "except InvalidAgeException:\n",
    "    print(\"Exception occurred: Invalid Age\")"
   ]
  },
  {
   "cell_type": "code",
   "execution_count": null,
   "id": "907055ed-3889-4b54-b399-c67e7e65f07b",
   "metadata": {},
   "outputs": [],
   "source": []
  }
 ],
 "metadata": {
  "kernelspec": {
   "display_name": "Python 3 (ipykernel)",
   "language": "python",
   "name": "python3"
  },
  "language_info": {
   "codemirror_mode": {
    "name": "ipython",
    "version": 3
   },
   "file_extension": ".py",
   "mimetype": "text/x-python",
   "name": "python",
   "nbconvert_exporter": "python",
   "pygments_lexer": "ipython3",
   "version": "3.10.8"
  }
 },
 "nbformat": 4,
 "nbformat_minor": 5
}
