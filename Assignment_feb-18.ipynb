{
 "cells": [
  {
   "cell_type": "markdown",
   "id": "ba0c487e-7bc3-4ae7-a7bc-6cf43d04f300",
   "metadata": {},
   "source": [
    "# Q1. What is an API? Give an example, where an API is used in real life."
   ]
  },
  {
   "cell_type": "code",
   "execution_count": null,
   "id": "9cc6e7e3-2644-4ede-8741-1970e187f09b",
   "metadata": {},
   "outputs": [],
   "source": [
    "Ans:\n",
    "API (application programming interface) is a way for two or more computer programs, web application, or apps to communicate with each other.\n",
    "\n",
    "Ex. G Pay It is a google application, which is used to communicate betwee bank to Account holder. When account holder wants to send money his friend then go to GPay and put friend's account details and then send money by using it. And GPay go to bank server and check your account balance and then successful transection or deny this request.\n",
    "\n",
    "WhatsApp, PePhone, Google, .etc"
   ]
  },
  {
   "cell_type": "markdown",
   "id": "1c3474f3-097b-494a-aa29-916035baff52",
   "metadata": {},
   "source": [
    "# Q2- Give advantages and disadvantages of using API."
   ]
  },
  {
   "cell_type": "code",
   "execution_count": null,
   "id": "425c2337-b8ac-4db0-b45b-d8c34f385338",
   "metadata": {},
   "outputs": [],
   "source": [
    "# Advantages\t\n",
    "Interpretation of real objects\t\n",
    "Identification of complex patterns and complex situations\t\n",
    "Ability to include or ignore features intelli- gently\t\n",
    "Multi-scale representation\t\n",
    "Use of shape, context, neighbourhood relationships\n",
    "\n",
    "# Disadvantages\n",
    "Imprecise boundary delineation\n",
    "Subjective\n",
    "Time consuming\n",
    "A fixed scale is necessary\n",
    "Inconsistency in the use of a steady scale to the whole image Human error"
   ]
  },
  {
   "cell_type": "markdown",
   "id": "0492413a-7d3f-48a7-a87f-9f560bbcfdf3",
   "metadata": {},
   "source": [
    "# Q3. What is a Web API? Differentiate between API and Web API."
   ]
  },
  {
   "cell_type": "markdown",
   "id": "9efd9122-bfd9-4fb5-9904-65ad839f1d0b",
   "metadata": {},
   "source": [
    "Ans:\n",
    "\n",
    "Web API is an application programming interface for the Web.\n",
    "\n",
    "Web API is a subset of API\n",
    "It is specily designed for webpage\n",
    "\n",
    "\n",
    "\n",
    "\n",
    "                          APIs\t                                                             Web APIs\n",
    "Protocol\t    TCP, FTP, or SMTP to communicate\t                                       HTTP protocol\n",
    "Platform\t    used for creating any type of application\t                         specifically for web-based applications\n",
    "Data formats\tsupport various data formats like as XML, JSON, or CSV,\t           support JSON or XML formats\n",
    "Security\t    variety of security mechanisms\t                                  standard web security protocols such "
   ]
  },
  {
   "cell_type": "markdown",
   "id": "320aeacb-7cd1-46d1-8111-e498aef85867",
   "metadata": {},
   "source": [
    "# Q4. Explain REST and SOAP Architecture. Mention shortcomings of SOAP."
   ]
  },
  {
   "cell_type": "code",
   "execution_count": null,
   "id": "8f83f669-3346-4fb1-853c-bcb57d7635e5",
   "metadata": {},
   "outputs": [],
   "source": [
    "REST stands for REpresentational State Transfer and API stands for Application Program Interface. REST is a software architectural style that defines the set of rules to be used for creating web services.\n",
    "A Restful system consists of a:\n",
    "\n",
    "client who requests for the resources.\n",
    "server who has the resources.\n",
    "\n",
    "\n",
    "SOAP (formerly a backronym for Simple Object Access Protocol) is a messaging protocol specification for exchanging structured information in the implementation of web services\n",
    "SOAP messaging structure\n",
    "\n",
    "Envelope\n",
    "Header (optional)\n",
    "Body includes the request or response.\n",
    "Fault\n",
    "Shortcomings of SOAP\n",
    "\n",
    "Complexity in code and understanding\n",
    "Performance slower than other web service protocols\n",
    "Developers facing Tooling problems"
   ]
  },
  {
   "cell_type": "markdown",
   "id": "f1fcba60-c9b2-4b97-9320-72ee59e7fd17",
   "metadata": {},
   "source": [
    "# Q5. Differentiate between REST and SOAP."
   ]
  },
  {
   "cell_type": "code",
   "execution_count": null,
   "id": "aaf9afe7-8f4e-454c-b635-5c2da565f129",
   "metadata": {},
   "outputs": [],
   "source": [
    "             REST\t             SOAP\n",
    "Protocol\t                                    HTTP\t           Messaging\n",
    "Performance\t                                    Faster\t           Slower\n",
    "Scalability\t                                    Scalable\t       Defcault to scale\n",
    "Caching\t                                        Available\t       Not available\n",
    "Statelessness\t                                Stateless\t       Maintain state"
   ]
  }
 ],
 "metadata": {
  "kernelspec": {
   "display_name": "Python 3 (ipykernel)",
   "language": "python",
   "name": "python3"
  },
  "language_info": {
   "codemirror_mode": {
    "name": "ipython",
    "version": 3
   },
   "file_extension": ".py",
   "mimetype": "text/x-python",
   "name": "python",
   "nbconvert_exporter": "python",
   "pygments_lexer": "ipython3",
   "version": "3.10.8"
  }
 },
 "nbformat": 4,
 "nbformat_minor": 5
}
