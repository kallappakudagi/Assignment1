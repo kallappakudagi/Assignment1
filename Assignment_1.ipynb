{
 "cells": [
  {
   "cell_type": "code",
   "execution_count": null,
   "id": "511354ba-6bca-412a-a558-93e8d8595eee",
   "metadata": {},
   "outputs": [],
   "source": [
    "'''Q1. Create one variable containing following type of data:\n",
    "(i) string\n",
    "(ii) list\n",
    "(iii) float\n",
    "(iv) tuple'''"
   ]
  },
  {
   "cell_type": "code",
   "execution_count": 1,
   "id": "1484115e-7321-4b8f-a417-446537c80034",
   "metadata": {},
   "outputs": [],
   "source": [
    "#Ans\n",
    "Name=\"kallappa\"\n",
    "My_lst=[1,2,2,'kallu']\n",
    "Num=2.5"
   ]
  },
  {
   "cell_type": "code",
   "execution_count": null,
   "id": "71a2777d-0664-4201-aa22-9ba3026b9a32",
   "metadata": {},
   "outputs": [],
   "source": [
    "'''Q2. Given are some following variables containing data:\n",
    "(i) var1 = ‘ ‘\n",
    "(ii) var2 = ‘[ DS , ML , Python]’\n",
    "(iii) var3 = [ ‘DS’ , ’ML’ , ‘Python’ ]\n",
    "(iv) var4 = 1.\n",
    "What will be the data type of the above given variable.'''"
   ]
  },
  {
   "cell_type": "code",
   "execution_count": 3,
   "id": "dcf1172d-8f23-4935-bb24-57773e21e8ae",
   "metadata": {},
   "outputs": [],
   "source": [
    "#Ans\n",
    "Var1=''\n",
    "var2='[Ds,ML,Python]'\n",
    "var3=['DS','ML','python']\n",
    "var4=1"
   ]
  },
  {
   "cell_type": "code",
   "execution_count": 4,
   "id": "be27ecce-b768-4296-9acd-f9ce9da133e1",
   "metadata": {},
   "outputs": [
    {
     "data": {
      "text/plain": [
       "str"
      ]
     },
     "execution_count": 4,
     "metadata": {},
     "output_type": "execute_result"
    }
   ],
   "source": [
    "type(Var1)"
   ]
  },
  {
   "cell_type": "code",
   "execution_count": 7,
   "id": "4173b426-e7f7-424c-a42d-57085e30908b",
   "metadata": {},
   "outputs": [
    {
     "data": {
      "text/plain": [
       "str"
      ]
     },
     "execution_count": 7,
     "metadata": {},
     "output_type": "execute_result"
    }
   ],
   "source": [
    "type(var2)"
   ]
  },
  {
   "cell_type": "code",
   "execution_count": 9,
   "id": "bd21a89e-05fe-4880-9167-ee986f062fae",
   "metadata": {},
   "outputs": [
    {
     "data": {
      "text/plain": [
       "list"
      ]
     },
     "execution_count": 9,
     "metadata": {},
     "output_type": "execute_result"
    }
   ],
   "source": [
    "type(var3)"
   ]
  },
  {
   "cell_type": "code",
   "execution_count": 10,
   "id": "ca355b08-1a5f-480d-8c1c-5e2aab72fd32",
   "metadata": {},
   "outputs": [
    {
     "data": {
      "text/plain": [
       "int"
      ]
     },
     "execution_count": 10,
     "metadata": {},
     "output_type": "execute_result"
    }
   ],
   "source": [
    "type(4)"
   ]
  },
  {
   "cell_type": "code",
   "execution_count": null,
   "id": "4cfce667-b74b-4353-82e0-fd552e99a439",
   "metadata": {},
   "outputs": [],
   "source": [
    "'''Q3. Explain the use of the following operators using an example:\n",
    "(i) /\n",
    "(ii) %\n",
    "(iii) //\n",
    "(iv) **\n",
    "'''"
   ]
  },
  {
   "cell_type": "code",
   "execution_count": 13,
   "id": "63e5ce9c-c24f-4ecf-a47f-ffc90d5e7ca6",
   "metadata": {},
   "outputs": [
    {
     "data": {
      "text/plain": [
       "5.75"
      ]
     },
     "execution_count": 13,
     "metadata": {},
     "output_type": "execute_result"
    }
   ],
   "source": [
    "#Ans\n",
    "#/ it is used to devide one number from another number\n",
    "#ex-\n",
    "\n",
    "23/4"
   ]
  },
  {
   "cell_type": "code",
   "execution_count": null,
   "id": "bf352dd3-3cf2-432a-a46e-9d3ce6a588bf",
   "metadata": {},
   "outputs": [],
   "source": [
    "#%-this operater is used to get the reminder when you divied one number with other"
   ]
  },
  {
   "cell_type": "code",
   "execution_count": 15,
   "id": "4a7e5651-3285-4246-b7ce-27539d2f956b",
   "metadata": {},
   "outputs": [
    {
     "data": {
      "text/plain": [
       "2"
      ]
     },
     "execution_count": 15,
     "metadata": {},
     "output_type": "execute_result"
    }
   ],
   "source": [
    "#ex-\n",
    "23%3"
   ]
  },
  {
   "cell_type": "code",
   "execution_count": null,
   "id": "b19e9781-d567-4a1c-a1f4-5b2eda42140d",
   "metadata": {},
   "outputs": [],
   "source": [
    "'''// this operater is known as floor division or integer division and it will divide one number with other and round the value to\n",
    "the nearest number'''"
   ]
  },
  {
   "cell_type": "code",
   "execution_count": 20,
   "id": "34746c24-3f61-4d5f-a268-7094545b9078",
   "metadata": {},
   "outputs": [
    {
     "data": {
      "text/plain": [
       "7"
      ]
     },
     "execution_count": 20,
     "metadata": {},
     "output_type": "execute_result"
    }
   ],
   "source": [
    "23//3"
   ]
  },
  {
   "cell_type": "code",
   "execution_count": 21,
   "id": "e51a1f5f-b49a-4ec1-9e02-c0dfcefdc4fd",
   "metadata": {},
   "outputs": [
    {
     "data": {
      "text/plain": [
       "25"
      ]
     },
     "execution_count": 21,
     "metadata": {},
     "output_type": "execute_result"
    }
   ],
   "source": [
    "##**- it is used to get the power value of any number\n",
    "#ex-\n",
    "\n",
    "5**2"
   ]
  },
  {
   "cell_type": "code",
   "execution_count": null,
   "id": "674ebb90-a926-4444-a908-ef41d368e45e",
   "metadata": {},
   "outputs": [],
   "source": [
    "'''Q4. Create a list of length 10 of your choice containing multiple types of data. Using for loop print the\n",
    "element and its data type.'''"
   ]
  },
  {
   "cell_type": "code",
   "execution_count": 8,
   "id": "ca55ce6b-38a0-4cab-924c-b88c027dfa2a",
   "metadata": {},
   "outputs": [
    {
     "name": "stdout",
     "output_type": "stream",
     "text": [
      "<class 'int'>\n",
      "<class 'int'>\n",
      "<class 'float'>\n",
      "<class 'str'>\n",
      "<class 'bool'>\n",
      "<class 'int'>\n",
      "<class 'str'>\n",
      "<class 'int'>\n",
      "<class 'int'>\n",
      "<class 'int'>\n"
     ]
    }
   ],
   "source": [
    "lst=[1,2,3.4,'kallu',True,789,'pwskills',3,54,0]\n",
    "\n",
    "for x in lst:\n",
    "        print(type (x))"
   ]
  },
  {
   "cell_type": "code",
   "execution_count": null,
   "id": "7f12f557-ca56-4561-af71-29421072023c",
   "metadata": {},
   "outputs": [],
   "source": [
    "'''5. Using a while loop, verify if the number A is purely divisible by number B and if so then how many \n",
    "times it can be divisible.'''"
   ]
  },
  {
   "cell_type": "code",
   "execution_count": 1,
   "id": "7ed0eab6-502f-47f4-bfef-adbe6aa46468",
   "metadata": {},
   "outputs": [
    {
     "name": "stdout",
     "output_type": "stream",
     "text": [
      "the number is 2 is not purely  divisible by 5\n"
     ]
    }
   ],
   "source": [
    "##Ans\n",
    "a =  2 \n",
    "b = 5\n",
    "while True:\n",
    "    if a % b == 0:\n",
    "        c = a // b\n",
    "        print(f\"the number is {a} is divisible by {b} for {c} times\")\n",
    "        break\n",
    "    else:\n",
    "        print(f\"the number is {a} is not purely  divisible by {b}\")\n",
    "        break"
   ]
  },
  {
   "cell_type": "code",
   "execution_count": null,
   "id": "56708372-d4a7-4776-940e-729c4dfd41be",
   "metadata": {},
   "outputs": [],
   "source": [
    "'''6. Create a list containing 25 int type data. Using for loop and if-else condition print if the element is \n",
    "divisible by 3 or not'''"
   ]
  },
  {
   "cell_type": "code",
   "execution_count": 17,
   "id": "2b81006f-d932-477d-b2b4-b39f18d71f4e",
   "metadata": {},
   "outputs": [
    {
     "name": "stdout",
     "output_type": "stream",
     "text": [
      "elment is divisible by 3\n",
      "the number is not divisible by 3\n",
      "the number is not divisible by 3\n",
      "elment is divisible by 3\n",
      "the number is not divisible by 3\n",
      "the number is not divisible by 3\n",
      "elment is divisible by 3\n",
      "the number is not divisible by 3\n",
      "the number is not divisible by 3\n",
      "elment is divisible by 3\n",
      "the number is not divisible by 3\n",
      "the number is not divisible by 3\n",
      "elment is divisible by 3\n",
      "the number is not divisible by 3\n",
      "the number is not divisible by 3\n",
      "elment is divisible by 3\n",
      "the number is not divisible by 3\n",
      "the number is not divisible by 3\n",
      "elment is divisible by 3\n",
      "the number is not divisible by 3\n",
      "the number is not divisible by 3\n",
      "elment is divisible by 3\n",
      "the number is not divisible by 3\n",
      "the number is not divisible by 3\n",
      "elment is divisible by 3\n"
     ]
    }
   ],
   "source": [
    "for x in range(0,25):\n",
    "    if x%3==0:\n",
    "        print(\"elment is divisible by 3\")\n",
    "        \n",
    "    else:\n",
    "        print(\"the number is not divisible by 3\")"
   ]
  },
  {
   "cell_type": "code",
   "execution_count": 4,
   "id": "377b7d71-3528-4c7b-9379-1618bc2aba5d",
   "metadata": {},
   "outputs": [
    {
     "name": "stdout",
     "output_type": "stream",
     "text": [
      "the number is not divisble by 3\n",
      "the number is not divisble by 3\n",
      "the number is divisble by 3\n",
      "the number is not divisble by 3\n",
      "the number is not divisble by 3\n",
      "the number is divisble by 3\n",
      "the number is not divisble by 3\n",
      "the number is not divisble by 3\n",
      "the number is divisble by 3\n",
      "the number is not divisble by 3\n",
      "the number is not divisble by 3\n",
      "the number is divisble by 3\n",
      "the number is not divisble by 3\n",
      "the number is not divisble by 3\n",
      "the number is divisble by 3\n",
      "the number is not divisble by 3\n",
      "the number is not divisble by 3\n",
      "the number is divisble by 3\n",
      "the number is not divisble by 3\n",
      "the number is not divisble by 3\n",
      "the number is divisble by 3\n",
      "the number is not divisble by 3\n",
      "the number is not divisble by 3\n",
      "the number is divisble by 3\n",
      "the number is not divisble by 3\n"
     ]
    }
   ],
   "source": [
    "lst=[1,2,3,4,5,6,7,8,9,10,11,12,13,14,15,16,17,18,19,20,21,22,23,24,25]\n",
    "for i in lst:\n",
    "    if i%3==0:\n",
    "        print('the number is divisble by 3')\n",
    "    else:\n",
    "        print('the number is not divisble by 3')"
   ]
  },
  {
   "cell_type": "code",
   "execution_count": null,
   "id": "8400c4e4-8df0-4183-9776-ea61234e7822",
   "metadata": {},
   "outputs": [],
   "source": [
    "'''7. What do you understand about mutable and immutable data types? Give examples for both showing \n",
    "this property.'''"
   ]
  },
  {
   "cell_type": "code",
   "execution_count": 8,
   "id": "0400a7cb-3be2-4c3a-af3e-6c319e6ac3d9",
   "metadata": {},
   "outputs": [],
   "source": [
    "#ans-if you can change the value of an object without changing its identity is called mutablity\n",
    "#ex- list is a mutable object\n",
    "\n",
    "list=[1,2,4,'kallu',True]\n",
    "list[3]='Data science'"
   ]
  },
  {
   "cell_type": "code",
   "execution_count": 9,
   "id": "b2c11dd4-7439-4d24-99d2-4d5f80e1fc7e",
   "metadata": {},
   "outputs": [
    {
     "data": {
      "text/plain": [
       "[1, 2, 4, 'Data science', True]"
      ]
     },
     "execution_count": 9,
     "metadata": {},
     "output_type": "execute_result"
    }
   ],
   "source": [
    "list"
   ]
  },
  {
   "cell_type": "code",
   "execution_count": 10,
   "id": "dc5c92d2-7fd7-4975-bb6d-bd4d4fd926a2",
   "metadata": {},
   "outputs": [],
   "source": [
    "#if you can't change the values of any object over time is called immutablity\n",
    "\n",
    "#ex-  strings are immutable\n",
    "\n",
    "Name='pw skills'"
   ]
  },
  {
   "cell_type": "code",
   "execution_count": 12,
   "id": "4e9418f6-db54-4767-ae10-0ef0f041c6e3",
   "metadata": {},
   "outputs": [
    {
     "data": {
      "text/plain": [
       "'i'"
      ]
     },
     "execution_count": 12,
     "metadata": {},
     "output_type": "execute_result"
    }
   ],
   "source": [
    "Name[5]"
   ]
  },
  {
   "cell_type": "code",
   "execution_count": 14,
   "id": "3f384734-a2f3-4d0d-9c60-cebd261e07f4",
   "metadata": {},
   "outputs": [
    {
     "ename": "TypeError",
     "evalue": "'str' object does not support item assignment",
     "output_type": "error",
     "traceback": [
      "\u001b[0;31m---------------------------------------------------------------------------\u001b[0m",
      "\u001b[0;31mTypeError\u001b[0m                                 Traceback (most recent call last)",
      "Cell \u001b[0;32mIn[14], line 1\u001b[0m\n\u001b[0;32m----> 1\u001b[0m \u001b[43mName\u001b[49m\u001b[43m[\u001b[49m\u001b[38;5;241;43m5\u001b[39;49m\u001b[43m]\u001b[49m\u001b[38;5;241m=\u001b[39m\u001b[38;5;124m'\u001b[39m\u001b[38;5;124ms\u001b[39m\u001b[38;5;124m'\u001b[39m\n",
      "\u001b[0;31mTypeError\u001b[0m: 'str' object does not support item assignment"
     ]
    }
   ],
   "source": [
    "Name[5]='s'"
   ]
  },
  {
   "cell_type": "code",
   "execution_count": null,
   "id": "eb796364-1e5c-421f-9887-abd80e8f05e4",
   "metadata": {},
   "outputs": [],
   "source": []
  },
  {
   "cell_type": "code",
   "execution_count": null,
   "id": "ae209da3-6fcd-41f9-af44-29196b8ae9f0",
   "metadata": {},
   "outputs": [],
   "source": []
  },
  {
   "cell_type": "code",
   "execution_count": null,
   "id": "2ef1c2c3-ce34-4de9-b006-6b51ce00df4f",
   "metadata": {},
   "outputs": [],
   "source": []
  }
 ],
 "metadata": {
  "kernelspec": {
   "display_name": "Python 3 (ipykernel)",
   "language": "python",
   "name": "python3"
  },
  "language_info": {
   "codemirror_mode": {
    "name": "ipython",
    "version": 3
   },
   "file_extension": ".py",
   "mimetype": "text/x-python",
   "name": "python",
   "nbconvert_exporter": "python",
   "pygments_lexer": "ipython3",
   "version": "3.10.8"
  }
 },
 "nbformat": 4,
 "nbformat_minor": 5
}
