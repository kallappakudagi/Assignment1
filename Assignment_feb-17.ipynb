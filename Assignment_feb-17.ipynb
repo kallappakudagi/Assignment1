{
 "cells": [
  {
   "cell_type": "markdown",
   "id": "4294ad15-2cca-40a7-ab82-032a72022cda",
   "metadata": {},
   "source": [
    "#  Q1 What is MongoDB? Explain non-relational databases in short. In which scenarios it is preferred to use MongoDB over SQL databases?\n"
   ]
  },
  {
   "cell_type": "markdown",
   "id": "b8180c06-08e6-4856-9446-c12c45be92bd",
   "metadata": {},
   "source": [
    "MongoDB is a NoSql database\n",
    "\n",
    "non-relational databases support unstructured or semi-structured data also.\n",
    "non-relational databases no need to predefine schema\n",
    "non-relational databases is a best option for memory management\n",
    "When you know your data may be unstructured or semi-structured, and you also need a flexible schema"
   ]
  },
  {
   "cell_type": "markdown",
   "id": "1cbffb5a-b035-4594-9a1d-fb325c0f148b",
   "metadata": {},
   "source": [
    " # Q2. State and Explain the features of MongoDB."
   ]
  },
  {
   "cell_type": "code",
   "execution_count": null,
   "id": "9130d484-2b32-4ac5-8840-8f51e168960e",
   "metadata": {},
   "outputs": [],
   "source": [
    "Ans :\n",
    "\n",
    "This is a Schema-less Database\n",
    "This is Document Oriented or key-value\n",
    "This allows Dynamic Queries (no need schema)\n",
    "Power full Aggregation for filtering, sorting, etc.\n"
   ]
  },
  {
   "cell_type": "markdown",
   "id": "9dba858b-3b9f-4115-86d7-381bb6d791be",
   "metadata": {},
   "source": [
    "# Q3. Write a code to connect MongoDB to Python. Also, create a database and a collection in MongoDB."
   ]
  },
  {
   "cell_type": "code",
   "execution_count": null,
   "id": "f400b349-7897-4d88-89f7-e59622dcdb62",
   "metadata": {},
   "outputs": [],
   "source": [
    "Ans:\n",
    "    \n",
    "    #connect MongoDB to Python\n",
    "import pymongo\n",
    "client = pymongo.MongoClient(\"mongodb+srv://<username>:<passeord>@cluster0.m6yagtd.mongodb.net/?retryWrites=true&w=majority\")\n",
    "db = client.test"
   ]
  },
  {
   "cell_type": "code",
   "execution_count": null,
   "id": "fbd98cfe-fc7b-4c01-9a67-56731668619c",
   "metadata": {},
   "outputs": [],
   "source": [
    "# create a database\n",
    "db = client['TestDatabase'] "
   ]
  },
  {
   "cell_type": "code",
   "execution_count": null,
   "id": "a1f092f4-3066-4c59-b6da-df1320dce2f9",
   "metadata": {},
   "outputs": [],
   "source": [
    "# collection in MongoDB\n",
    "data = {\"name\" : \"Kallu\" , \n",
    "        \"class\" :\"data science masters \" ,\n",
    "        \"time\" : \"flexi\"}\n",
    "test_collection = db[\"my_record\"]\n",
    "test_collection.insert_one(data1)"
   ]
  },
  {
   "cell_type": "markdown",
   "id": "b63969b5-07f1-4289-9a89-f7ecf67a3deb",
   "metadata": {},
   "source": [
    " # Q 4. Using the database and the collection created in question number 3, write a code to insert one record, and insert many record"
   ]
  },
  {
   "cell_type": "code",
   "execution_count": null,
   "id": "06eaaf66-32df-4ef9-a169-7242fc8e2741",
   "metadata": {},
   "outputs": [],
   "source": [
    "#connect MongoDB to Python\n",
    "import pymongo\n",
    "client = pymongo.MongoClient(\"mongodb+srv://<username>:<passeord>@cluster0.m6yagtd.mongodb.net/?retryWrites=true&w=majority\")\n",
    "db = client.test\n",
    "db = client['TestDatabase']  \n",
    "data = {\"name\" : \"Akram\" , \n",
    "        \"class\" :\"data science masters \" ,\n",
    "        \"time\" : \"flexi\"}\n",
    "test_collection = db[\"my_record\"]\n",
    "test_collection.insert_one(data1)\n",
    "\n",
    " data2 = [\n",
    "  { \"name\": \"Amy\", \"address\": \"Apple st 652\" },\n",
    "  { \"name\": \"Hannah\", \"address\": \"Mountain 21\" },\n",
    "  { \"name\": \"Chuck\", \"address\": \"Main Road 989\" },\n",
    "  { \"name\": \"Viola\", \"address\": \"Sideway 1633\" }\n",
    "]\n",
    "test_collection.insert_many(data2)  "
   ]
  },
  {
   "cell_type": "code",
   "execution_count": null,
   "id": "85f2b227-df08-4ea4-9828-c7f28f580840",
   "metadata": {},
   "outputs": [],
   "source": [
    "test_collection.find_one() "
   ]
  },
  {
   "cell_type": "code",
   "execution_count": null,
   "id": "2bc8e490-f5d1-4602-a077-e3a23872b3eb",
   "metadata": {},
   "outputs": [],
   "source": [
    "for i in test_collection.find():         # find all document from collection/table\n",
    "    print(i)"
   ]
  },
  {
   "cell_type": "markdown",
   "id": "eee56d22-0e57-4428-8034-37ef5f6b8ba6",
   "metadata": {},
   "source": [
    "# Q5. Explain how you can use the find() method to query the MongoDB database. Write a simple code to demonstrate this.find(): This function used to query and retrieve data from a MongoDB collection.\n"
   ]
  },
  {
   "cell_type": "code",
   "execution_count": null,
   "id": "87ed148a-544b-4b66-9c50-69adc772174e",
   "metadata": {},
   "outputs": [],
   "source": [
    "for i in test_collection.find({'name': 'Chuck'}): \n",
    "    print(i)"
   ]
  },
  {
   "cell_type": "code",
   "execution_count": null,
   "id": "f136b1a1-5e4d-4194-9fba-69bde56aef79",
   "metadata": {},
   "outputs": [],
   "source": [
    "for i in test_collection.find({\"_id\" :{\"$lt\" : '5'}}):  \n",
    "    print(i) "
   ]
  },
  {
   "cell_type": "markdown",
   "id": "26820bd5-9756-47aa-bd83-8e56af8ce6fc",
   "metadata": {},
   "source": [
    "# Q6. Explain the sort() method. Give an example to demonstrate sorting in MongoDB.sort(): It is used to sort result quety\n"
   ]
  },
  {
   "cell_type": "code",
   "execution_count": null,
   "id": "a858082c-8b85-453e-9199-e2f8b16525e3",
   "metadata": {},
   "outputs": [],
   "source": [
    "# sort rutern data in order to name\n",
    "for i in test_collection.find().sort(\"name\"):\n",
    "    print(i)"
   ]
  },
  {
   "cell_type": "code",
   "execution_count": null,
   "id": "3e51f177-476c-4625-b5c3-9360656d4a66",
   "metadata": {},
   "outputs": [],
   "source": [
    "#sort in descending order\n",
    "for i in test_collection.find().sort(\"name\",-1):\n",
    "    print(i)"
   ]
  },
  {
   "cell_type": "markdown",
   "id": "4715290f-e736-4802-b85e-355f31601159",
   "metadata": {},
   "source": [
    "# Q7. Explain why delete_one(), delete_many(), and drop() is used.delete_one(): It is used to delete single document from collection\n"
   ]
  },
  {
   "cell_type": "code",
   "execution_count": null,
   "id": "126e623b-a64c-4ae6-ba6e-ecb34ad32b89",
   "metadata": {},
   "outputs": [],
   "source": [
    "test_collection.delete_one({'name': 'Chuck'})"
   ]
  },
  {
   "cell_type": "code",
   "execution_count": null,
   "id": "bddcc455-35d2-46cd-bbe2-bcb7778f10ff",
   "metadata": {},
   "outputs": [],
   "source": [
    "delete_many(): It is used to delete all data according to condition"
   ]
  },
  {
   "cell_type": "code",
   "execution_count": null,
   "id": "73cfaf59-556e-41c1-98a5-4969aeea87cd",
   "metadata": {},
   "outputs": [],
   "source": [
    "test_collection.delete_many({\"address\": { \"$regex\": \"^S\" }})"
   ]
  },
  {
   "cell_type": "code",
   "execution_count": null,
   "id": "7f1d0f08-0de9-4ca4-91b9-7bbb33aa31d2",
   "metadata": {},
   "outputs": [],
   "source": [
    "drop(): It is used to drop/delete collection from MongoDB database"
   ]
  },
  {
   "cell_type": "code",
   "execution_count": null,
   "id": "323ce182-91ea-4546-b73f-834cab8aa017",
   "metadata": {},
   "outputs": [],
   "source": [
    "mycol = db[\"TestDatabase\"]                 # Create collection\n",
    "mycol.drop()                               #drop collection"
   ]
  }
 ],
 "metadata": {
  "kernelspec": {
   "display_name": "Python 3 (ipykernel)",
   "language": "python",
   "name": "python3"
  },
  "language_info": {
   "codemirror_mode": {
    "name": "ipython",
    "version": 3
   },
   "file_extension": ".py",
   "mimetype": "text/x-python",
   "name": "python",
   "nbconvert_exporter": "python",
   "pygments_lexer": "ipython3",
   "version": "3.10.8"
  }
 },
 "nbformat": 4,
 "nbformat_minor": 5
}
