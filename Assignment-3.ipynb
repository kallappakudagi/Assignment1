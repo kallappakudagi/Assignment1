{
 "cells": [
  {
   "cell_type": "markdown",
   "id": "5a30b9bd-3255-461f-9b91-36851539d922",
   "metadata": {},
   "source": [
    "# Q1. Which keyword is used to create a function? Create a function to return a list of odd numbers in the range of 1 to 25.\n"
   ]
  },
  {
   "cell_type": "code",
   "execution_count": 23,
   "id": "7755a779-aeff-41dd-9717-ae537f222f6a",
   "metadata": {},
   "outputs": [],
   "source": [
    "# def keyword is used to create a function\n",
    "def odd(x,y):\n",
    "    for a in range(x,y):\n",
    "        if a%2!=0:\n",
    "            print(a)"
   ]
  },
  {
   "cell_type": "code",
   "execution_count": 24,
   "id": "619d78ca-e7cf-4fd2-87d5-bfec8a49d490",
   "metadata": {},
   "outputs": [
    {
     "name": "stdout",
     "output_type": "stream",
     "text": [
      "1\n",
      "3\n",
      "5\n",
      "7\n",
      "9\n",
      "11\n",
      "13\n",
      "15\n",
      "17\n",
      "19\n",
      "21\n",
      "23\n"
     ]
    }
   ],
   "source": [
    "odd(1,25)"
   ]
  },
  {
   "cell_type": "markdown",
   "id": "183e5cb8-122d-46f5-887e-969027410ac3",
   "metadata": {},
   "source": [
    "# Q2. Why *args and **kwargs is used in some functions? Create a function each for *args and **kwargs to demonstrate their use.\n"
   ]
  },
  {
   "cell_type": "code",
   "execution_count": 4,
   "id": "e6f76e7a-0ae4-46b0-97d3-87dc2839463d",
   "metadata": {},
   "outputs": [],
   "source": [
    "# *args used for non keyword arguments\n",
    "# **kwargs used for keyword arguments\n",
    "#ex-\n"
   ]
  },
  {
   "cell_type": "code",
   "execution_count": 25,
   "id": "8ee18918-28e2-409e-b32f-c63a386891c0",
   "metadata": {},
   "outputs": [],
   "source": [
    "def test(*a,**b):\n",
    "    print(\"this is *a:\")\n",
    "    for i in a:\n",
    "        print(i,end=' ')\n",
    "        print('\\nThis a **kwargs:')\n",
    "    for x,y in b.items():\n",
    "        print(f'Key:',{x}, 'value:',{y})"
   ]
  },
  {
   "cell_type": "code",
   "execution_count": 26,
   "id": "15b526bc-951a-4a43-ac08-f0032301d863",
   "metadata": {},
   "outputs": [
    {
     "name": "stdout",
     "output_type": "stream",
     "text": [
      "this is *a:\n",
      "1 \n",
      "This a **kwargs:\n",
      "2 \n",
      "This a **kwargs:\n",
      "3 \n",
      "This a **kwargs:\n",
      "5 \n",
      "This a **kwargs:\n",
      "Key: {'a'} value: {'kallu'}\n",
      "Key: {'b'} value: {'pw skills'}\n"
     ]
    }
   ],
   "source": [
    "test(1,2,3,5,a='kallu',b='pw skills')"
   ]
  },
  {
   "cell_type": "markdown",
   "id": "823c54d5-6fe7-4df9-a6d3-82c65e3cfe2d",
   "metadata": {},
   "source": [
    "# Q3.What is an iterator in python? Name the method used to initialise the iterator object and the method used for iteration. Use these methods to print the first five elements of the given list [2, 4, 6, 8, 10, 12, 14, 16,\n",
    "18, 20]\n",
    "."
   ]
  },
  {
   "cell_type": "code",
   "execution_count": 29,
   "id": "cf9ee5ec-151b-446b-99ff-47d03fc9cf1b",
   "metadata": {},
   "outputs": [],
   "source": [
    "# iterator is an object that contains a countable number of values."
   ]
  },
  {
   "cell_type": "code",
   "execution_count": 34,
   "id": "16f98e04-b5c2-4d5f-9b3c-6d03a3af694f",
   "metadata": {},
   "outputs": [],
   "source": [
    "a=[2,4,6, 8, 10, 12, 14, 16,18, 20]"
   ]
  },
  {
   "cell_type": "code",
   "execution_count": 35,
   "id": "e3d423a3-0b03-4723-b80f-b86abb1be4cf",
   "metadata": {},
   "outputs": [],
   "source": [
    "ab=iter(a)"
   ]
  },
  {
   "cell_type": "code",
   "execution_count": 36,
   "id": "0e941eb0-fd30-4acd-ba42-9a1b09bf02bb",
   "metadata": {},
   "outputs": [
    {
     "name": "stdout",
     "output_type": "stream",
     "text": [
      "2\n",
      "4\n",
      "6\n",
      "8\n",
      "10\n"
     ]
    }
   ],
   "source": [
    "for i in range(5):\n",
    "    print(next(ab))"
   ]
  },
  {
   "cell_type": "markdown",
   "id": "e7ed553e-9103-4657-9da8-f39d4af463c7",
   "metadata": {},
   "source": [
    "# Q4.  What is a generator function in python? Why yield keyword is used? Give an example of a generator function.\n"
   ]
  },
  {
   "cell_type": "code",
   "execution_count": null,
   "id": "9fc8a1df-350b-44a3-a2f5-f3f4247a52b0",
   "metadata": {},
   "outputs": [],
   "source": [
    "#Generators are useful when we want to produce a large sequence of values, but we don't want to store all of them in memory at once.\n",
    " #Here, the yield keyword is used to produce a value from the generator.\n",
    " #When the generator function is called, it does not execute the function body immediately. Instead, it returns a generator object that can be iterated over to produce the values"
   ]
  },
  {
   "cell_type": "code",
   "execution_count": 31,
   "id": "72f8297d-44c9-4255-af3b-04fe4914a203",
   "metadata": {},
   "outputs": [],
   "source": [
    "def helo(n):\n",
    "    for i in range(n):\n",
    "        yield(i)"
   ]
  },
  {
   "cell_type": "code",
   "execution_count": 32,
   "id": "d2987f41-b038-46f7-922d-21b7da5830a3",
   "metadata": {},
   "outputs": [
    {
     "name": "stdout",
     "output_type": "stream",
     "text": [
      "0\n",
      "1\n",
      "2\n",
      "3\n",
      "4\n",
      "5\n"
     ]
    }
   ],
   "source": [
    "for i in helo(6):\n",
    "    print(i)"
   ]
  },
  {
   "cell_type": "markdown",
   "id": "3d8b95a9-f32e-45bb-968a-fd9aa477980e",
   "metadata": {},
   "source": [
    "# Q5. Create a generator function for prime numbers less than 1000. Use the next() method to print the first 20 prime numbers.\n"
   ]
  },
  {
   "cell_type": "code",
   "execution_count": 33,
   "id": "f4db8c6c-7428-4eb5-8cc0-5f283ec6ae5d",
   "metadata": {},
   "outputs": [
    {
     "name": "stdout",
     "output_type": "stream",
     "text": [
      "2\n",
      "3\n",
      "5\n",
      "7\n",
      "11\n",
      "13\n",
      "17\n",
      "19\n",
      "23\n",
      "29\n",
      "31\n",
      "37\n",
      "41\n",
      "43\n",
      "47\n",
      "53\n",
      "59\n",
      "61\n",
      "67\n",
      "71\n"
     ]
    }
   ],
   "source": [
    "def prime_generator():\n",
    "    primes = [2]  # Start with the first prime number\n",
    "    yield 2\n",
    "\n",
    "    num = 3  # Start checking from 3\n",
    "\n",
    "    while num < 1000:\n",
    "        if all(num % prime != 0 for prime in primes):\n",
    "            yield num\n",
    "            primes.append(num)\n",
    "\n",
    "        num += 2  # Skip even numbers\n",
    "\n",
    "# Create the generator\n",
    "prime_gen = prime_generator()\n",
    "\n",
    "# Print the first 20 prime numbers\n",
    "for _ in range(20):\n",
    "    print(next(prime_gen))"
   ]
  },
  {
   "cell_type": "code",
   "execution_count": null,
   "id": "2e4f0e4d-1533-4c0a-b4e6-c91a69f2410b",
   "metadata": {},
   "outputs": [],
   "source": []
  },
  {
   "cell_type": "code",
   "execution_count": null,
   "id": "9b95a1a0-300d-420d-8637-ea1b6ed46f0f",
   "metadata": {},
   "outputs": [],
   "source": []
  },
  {
   "cell_type": "code",
   "execution_count": null,
   "id": "2a22acff-03fe-46c7-8d25-a3ca2f77b915",
   "metadata": {},
   "outputs": [],
   "source": []
  }
 ],
 "metadata": {
  "kernelspec": {
   "display_name": "Python 3 (ipykernel)",
   "language": "python",
   "name": "python3"
  },
  "language_info": {
   "codemirror_mode": {
    "name": "ipython",
    "version": 3
   },
   "file_extension": ".py",
   "mimetype": "text/x-python",
   "name": "python",
   "nbconvert_exporter": "python",
   "pygments_lexer": "ipython3",
   "version": "3.10.8"
  }
 },
 "nbformat": 4,
 "nbformat_minor": 5
}
