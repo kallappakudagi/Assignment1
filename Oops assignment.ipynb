{
 "cells": [
  {
   "cell_type": "markdown",
   "id": "8ff61367-2530-4114-99ba-519b458b2e99",
   "metadata": {},
   "source": [
    "# Q1. Explain Class and Object with respect to Object-Oriented Programming. Give a suitable example."
   ]
  },
  {
   "cell_type": "code",
   "execution_count": null,
   "id": "f933f621-fb90-483f-8772-578e7a6700b0",
   "metadata": {},
   "outputs": [],
   "source": [
    "##In object-oriented programming (OOP), a class is a blueprint or template that defines the characteristics and behaviors of a p"
   ]
  },
  {
   "cell_type": "code",
   "execution_count": 1,
   "id": "1e51822d-81b4-4890-928d-3aa929b13926",
   "metadata": {},
   "outputs": [],
   "source": [
    "class student : #here are student is a class\n",
    "    def __init__(self,number,email,student_id):\n",
    "        self.number= number\n",
    "        self.email= email\n",
    "        self.student_id= student_id\n",
    "        \n",
    "    def student_details(self):\n",
    "        return self.student_id,self.number,self.email"
   ]
  },
  {
   "cell_type": "code",
   "execution_count": 5,
   "id": "d2ae59ac-0e21-4121-acbe-0aaef1ec6aee",
   "metadata": {},
   "outputs": [],
   "source": [
    "sut = student(83472839233 , \"kallu@gmail.com\" , \"SS4\")"
   ]
  },
  {
   "cell_type": "code",
   "execution_count": 6,
   "id": "5c7667b6-0d13-4a53-b693-eecfab28b64b",
   "metadata": {},
   "outputs": [
    {
     "data": {
      "text/plain": [
       "('SS4', 83472839233, 'kallu@gmail.com')"
      ]
     },
     "execution_count": 6,
     "metadata": {},
     "output_type": "execute_result"
    }
   ],
   "source": [
    "sut.student_details() # here are sut is object of student"
   ]
  },
  {
   "cell_type": "markdown",
   "id": "191d0337-d0a2-48d5-bc39-a5de9c3275b3",
   "metadata": {},
   "source": [
    "# Q2. Name the four pillars of OOPs."
   ]
  },
  {
   "cell_type": "code",
   "execution_count": null,
   "id": "70571a6d-1233-4fae-9d0b-3ed0799ff073",
   "metadata": {},
   "outputs": [],
   "source": [
    "The four pillars of OOPS are-\n",
    "\n",
    "Encapsulation\n",
    "Inheritance\n",
    "Polymorphism\n",
    "Abstraction"
   ]
  },
  {
   "cell_type": "markdown",
   "id": "3686b73b-60e9-466e-9b64-0977d6eb3745",
   "metadata": {},
   "source": [
    "# Q3. Explain why the __init__() function is used. Give a suitable example."
   ]
  },
  {
   "cell_type": "code",
   "execution_count": null,
   "id": "c2c95ab0-93de-4e1c-a206-9776503506b5",
   "metadata": {},
   "outputs": [],
   "source": [
    "# The init() function is a special method in Python classes that is automatically called when an object is created from a class\n"
   ]
  },
  {
   "cell_type": "code",
   "execution_count": 7,
   "id": "31d58d56-4d87-416a-9630-5a433483df7c",
   "metadata": {},
   "outputs": [],
   "source": [
    "class data: \n",
    "    def __init__(self, name, age):\n",
    "        self.name = name\n",
    "        self.age = age\n",
    "        \n",
    "    def data_details(self):\n",
    "        return self.name, self.age"
   ]
  },
  {
   "cell_type": "code",
   "execution_count": 8,
   "id": "ac8edab2-adc4-4d60-9efe-06586c915495",
   "metadata": {},
   "outputs": [],
   "source": [
    "Kallu = data(\"kallu_kudagi\",28)"
   ]
  },
  {
   "cell_type": "code",
   "execution_count": 9,
   "id": "e769b195-f49e-4f7d-85b9-957ec77a0674",
   "metadata": {},
   "outputs": [
    {
     "data": {
      "text/plain": [
       "('kallu_kudagi', 28)"
      ]
     },
     "execution_count": 9,
     "metadata": {},
     "output_type": "execute_result"
    }
   ],
   "source": [
    "Kallu.data_details()\n"
   ]
  },
  {
   "cell_type": "markdown",
   "id": "47c83480-7eb3-4df9-820b-7a7c9c05f153",
   "metadata": {},
   "source": [
    "# Q4. Why self is used in OOPs?"
   ]
  },
  {
   "cell_type": "code",
   "execution_count": null,
   "id": "ee647a20-920b-45cf-be24-80d004ea22f6",
   "metadata": {},
   "outputs": [],
   "source": [
    "'''' In object-oriented programming (OOP), the self parameter is used to refer to the current instance of a class. \n",
    "It acts as a reference to the object itself and allows access to its attributes and methods.'''"
   ]
  },
  {
   "cell_type": "markdown",
   "id": "f300ee45-69be-4ce8-b3f5-95f184de986f",
   "metadata": {},
   "source": [
    "# Q5. What is inheritance? Give an example for each type of inheritance."
   ]
  },
  {
   "cell_type": "code",
   "execution_count": null,
   "id": "bc92aed9-2f54-4f95-b585-8d41a9b0a4dd",
   "metadata": {},
   "outputs": [],
   "source": [
    "'''Inheritance is a fundamental concept in object-oriented programming (OOP) that allows a class (child class or derived class) \n",
    "to inherit properties and behaviors from another class (parent class or base class)'''"
   ]
  },
  {
   "cell_type": "code",
   "execution_count": null,
   "id": "6b03ea87-02f3-414e-99ba-07ff78aa5265",
   "metadata": {},
   "outputs": [],
   "source": [
    "#single inheritance"
   ]
  },
  {
   "cell_type": "code",
   "execution_count": 10,
   "id": "bddd57ed-35a1-4b50-b051-c7c3c4d4766e",
   "metadata": {},
   "outputs": [],
   "source": [
    "class tryy: # first here i creat a class its name is tryy\n",
    "    def tryy_math(self):\n",
    "        return \"this is a tryy for inheritance\""
   ]
  },
  {
   "cell_type": "code",
   "execution_count": 11,
   "id": "72696081-4c8d-4176-bca0-2d5c1b237650",
   "metadata": {},
   "outputs": [],
   "source": [
    "class child_tryy(tryy): #then i create a second class thats a child of tryy class.\n",
    "    pass"
   ]
  },
  {
   "cell_type": "code",
   "execution_count": 12,
   "id": "d8e85bd3-ccd5-4c3a-8ff6-a6e809e3073a",
   "metadata": {},
   "outputs": [],
   "source": [
    "obj_child_tryy = child_tryy() #  i assign a another value of class child_tryy thats is obj_child_tryy\n"
   ]
  },
  {
   "cell_type": "code",
   "execution_count": 13,
   "id": "1910acc9-7811-44c9-8583-71b14ad10c07",
   "metadata": {},
   "outputs": [
    {
     "data": {
      "text/plain": [
       "'this is a tryy for inheritance'"
      ]
     },
     "execution_count": 13,
     "metadata": {},
     "output_type": "execute_result"
    }
   ],
   "source": [
    "obj_child_tryy.tryy_math() # when i call to my o"
   ]
  }
 ],
 "metadata": {
  "kernelspec": {
   "display_name": "Python 3 (ipykernel)",
   "language": "python",
   "name": "python3"
  },
  "language_info": {
   "codemirror_mode": {
    "name": "ipython",
    "version": 3
   },
   "file_extension": ".py",
   "mimetype": "text/x-python",
   "name": "python",
   "nbconvert_exporter": "python",
   "pygments_lexer": "ipython3",
   "version": "3.10.8"
  }
 },
 "nbformat": 4,
 "nbformat_minor": 5
}
