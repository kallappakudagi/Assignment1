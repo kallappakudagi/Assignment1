{
 "cells": [
  {
   "cell_type": "markdown",
   "id": "717a2473-8ec8-45eb-bec4-756197e77726",
   "metadata": {},
   "source": [
    "# 1]What is multithreading in python? hy is it used? Name the module used to handle threads in python"
   ]
  },
  {
   "cell_type": "code",
   "execution_count": null,
   "id": "ea918859-1fc5-4601-8e36-73c6444fe061",
   "metadata": {},
   "outputs": [],
   "source": [
    "# A thread is a unit of execution within a process.\\n\",\n",
    "# Multithreading refers to concurrently executing multiple threads by rapidly switching the control of the CPU between threads.\""
   ]
  },
  {
   "cell_type": "code",
   "execution_count": null,
   "id": "efa8eef5-2f5b-402e-b649-2a1703eee230",
   "metadata": {},
   "outputs": [],
   "source": [
    "#  Multithreading (sometimes simply \\\"threading\\\") is when a program creates multiple threads with execution cycling among them,\\n\",\n",
    "#  so one longer-running task doesn't block all the others. This works well for tasks that can be broken down into smaller subtasks,\\n\",\n",
    "#  which can then each be given to a thread to be completed.\""
   ]
  },
  {
   "cell_type": "code",
   "execution_count": null,
   "id": "54c8f47b-80ed-40b6-8bf7-d60530a198fd",
   "metadata": {},
   "outputs": [],
   "source": [
    "# \"The threading module\"."
   ]
  },
  {
   "cell_type": "markdown",
   "id": "0857f303-ce5f-42f6-ab92-95e6afbfe650",
   "metadata": {},
   "source": [
    "# 2] Why threading module used? rite the use of the following functions\n",
    " # 1]activeCount\n",
    " # 2]currentThread\n",
    " # 3]enumerate)"
   ]
  },
  {
   "cell_type": "code",
   "execution_count": null,
   "id": "786c3bca-3190-4986-8212-f33fbe98951e",
   "metadata": {},
   "outputs": [],
   "source": [
    "# The thread Module.\n",
    "# This method starts a new thread and return its identifier. \\n\",\n",
    "#The thread executes the function \\\"function\\\" (function is a reference to a function)\\n\",\n",
    "# with the argument list args (which must be a list or a tuple). The optional kwargs argument specifies a dictionary of keyword arguments."
   ]
  },
  {
   "cell_type": "code",
   "execution_count": null,
   "id": "cd5da6f7-0acc-402c-98b0-9fbd840fce5b",
   "metadata": {},
   "outputs": [],
   "source": [
    "# threading.activeCount() − Returns the number of thread objects that are active.\n",
    "# threading.currentThread() − Returns the number of thread objects in the caller's thread control\n",
    "# threading.enumerate()- function takes a collection (e.g. a tuple) and returns it as an enumerate object."
   ]
  },
  {
   "cell_type": "markdown",
   "id": "f65cbb68-6684-4239-852e-6dd266cc99ff",
   "metadata": {},
   "source": [
    "# 3. Explain the following functions\n",
    "# 1] run\n",
    " # 2]start\n",
    " # 3]join\n",
    "# 4]isAlive)"
   ]
  },
  {
   "cell_type": "code",
   "execution_count": null,
   "id": "20fee0e0-c4ec-4f5c-acfc-f9b696e2b0a8",
   "metadata": {},
   "outputs": [],
   "source": [
    "# run() − The run() method is the entry point for a thread.\n",
    "\n",
    "#start() − The start() method starts a thread by calling the run method.\n",
    "\n",
    "# join([time]) − The join() waits for threads to terminate.\n",
    "\n",
    "# isAlive() − The isAlive() method checks whether a thread is still executing.\n",
    "\n",
    "# getName() − The getName() method returns the name of a thread.\n",
    "\n",
    "# setName() − The setName() method sets the name of a thread."
   ]
  },
  {
   "cell_type": "markdown",
   "id": "6e43343a-88eb-47cc-847b-87a9d6c4658c",
   "metadata": {},
   "source": [
    "# 4. rite a python program to create two threads. Thread one must print the list of squares and thread two must print the list of cubes\n"
   ]
  },
  {
   "cell_type": "code",
   "execution_count": 1,
   "id": "0fd99cd4-8ec5-4c59-a18c-8e1322276b9e",
   "metadata": {},
   "outputs": [
    {
     "name": "stdout",
     "output_type": "stream",
     "text": [
      "Square: 100\n",
      "Cube: 1000\n"
     ]
    }
   ],
   "source": [
    "import threading\n",
    "def print_cube(num):\n",
    "    print(\"Cube: {}\" .format(num * num * num))\n",
    "def print_square(num):\n",
    "    print(\"Square: {}\" .format(num * num))\n",
    "if __name__ ==\"__main__\":\n",
    "    t1 =threading.Thread(target=print_square, args=(10,))\n",
    "    t2 =threading.Thread(target=print_cube, args=(10,))\n",
    "    t1.start()\n",
    "    t2.start()\n",
    "    t2.join()"
   ]
  },
  {
   "cell_type": "markdown",
   "id": "019942f8-2238-4b95-9069-5bd62d130fd0",
   "metadata": {},
   "source": [
    "# 5. State advantages and disadvantages of multithreading"
   ]
  },
  {
   "cell_type": "code",
   "execution_count": null,
   "id": "02179c59-ba8b-4dc9-b454-1ddaa8c30b16",
   "metadata": {},
   "outputs": [],
   "source": [
    "#  Disadvantages:\n",
    "#  Difficulty of writing code. Multithreaded and multicontexted applications are not easy to write. ...\n",
    "#  Difficulty of debugging. ...\n",
    "#  Difficulty of managing concurrency. ...\n",
    "#  Difficulty of testing. ...\n",
    "#  Difficulty of porting existing cod"
   ]
  },
  {
   "cell_type": "code",
   "execution_count": null,
   "id": "e251b0cb-0998-477a-a2af-4dac6c06e6df",
   "metadata": {},
   "outputs": [],
   "source": [
    "# Advantages:\n",
    "# Threads improve the overall performance of a program.\n",
    "# Context Switching time in threads is faster. \n",
    "# Threads share the same memory and resources within a process.\n",
    "# Communication is faster in threads."
   ]
  },
  {
   "cell_type": "markdown",
   "id": "b7e12aca-b747-4e24-a46a-0844708f486d",
   "metadata": {},
   "source": [
    "# 6. Explain deadlocks and race conditions."
   ]
  },
  {
   "cell_type": "code",
   "execution_count": null,
   "id": "8a06743a-a192-406c-8fce-012c5f8e3a17",
   "metadata": {},
   "outputs": [],
   "source": [
    "#deadlock: Two threads hold locks on different resources, each waiting indefinitely for the other to release its lock.\n",
    "#race condition: Two (or more) threads alter the state of a shared resource concurrently, leaving it in an unpredictable state\""
   ]
  }
 ],
 "metadata": {
  "kernelspec": {
   "display_name": "Python 3 (ipykernel)",
   "language": "python",
   "name": "python3"
  },
  "language_info": {
   "codemirror_mode": {
    "name": "ipython",
    "version": 3
   },
   "file_extension": ".py",
   "mimetype": "text/x-python",
   "name": "python",
   "nbconvert_exporter": "python",
   "pygments_lexer": "ipython3",
   "version": "3.10.8"
  }
 },
 "nbformat": 4,
 "nbformat_minor": 5
}
